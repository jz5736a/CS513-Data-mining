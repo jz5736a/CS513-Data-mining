{
 "cells": [
  {
   "cell_type": "code",
   "execution_count": 35,
   "id": "47dd736d",
   "metadata": {},
   "outputs": [
    {
     "name": "stdout",
     "output_type": "stream",
     "text": [
      "(1167, 10)\n"
     ]
    },
    {
     "data": {
      "text/html": [
       "<div>\n",
       "<style scoped>\n",
       "    .dataframe tbody tr th:only-of-type {\n",
       "        vertical-align: middle;\n",
       "    }\n",
       "\n",
       "    .dataframe tbody tr th {\n",
       "        vertical-align: top;\n",
       "    }\n",
       "\n",
       "    .dataframe thead th {\n",
       "        text-align: right;\n",
       "    }\n",
       "</style>\n",
       "<table border=\"1\" class=\"dataframe\">\n",
       "  <thead>\n",
       "    <tr style=\"text-align: right;\">\n",
       "      <th></th>\n",
       "      <th>STATEFIPS</th>\n",
       "      <th>STATE</th>\n",
       "      <th>zipcode</th>\n",
       "      <th>Returns_pct1</th>\n",
       "      <th>Returns_pct2</th>\n",
       "      <th>Returns_pct3</th>\n",
       "      <th>Returns_pct4</th>\n",
       "      <th>Returns_pct5</th>\n",
       "      <th>Returns_pct6</th>\n",
       "      <th>total</th>\n",
       "    </tr>\n",
       "  </thead>\n",
       "  <tbody>\n",
       "    <tr>\n",
       "      <th>0</th>\n",
       "      <td>1</td>\n",
       "      <td>AL</td>\n",
       "      <td>35004</td>\n",
       "      <td>28.98</td>\n",
       "      <td>27.06</td>\n",
       "      <td>18.23</td>\n",
       "      <td>12.48</td>\n",
       "      <td>12.09</td>\n",
       "      <td>1.15</td>\n",
       "      <td>5210</td>\n",
       "    </tr>\n",
       "    <tr>\n",
       "      <th>1</th>\n",
       "      <td>1</td>\n",
       "      <td>AL</td>\n",
       "      <td>35005</td>\n",
       "      <td>42.26</td>\n",
       "      <td>30.97</td>\n",
       "      <td>14.52</td>\n",
       "      <td>6.45</td>\n",
       "      <td>5.81</td>\n",
       "      <td>0.00</td>\n",
       "      <td>3100</td>\n",
       "    </tr>\n",
       "    <tr>\n",
       "      <th>2</th>\n",
       "      <td>1</td>\n",
       "      <td>AL</td>\n",
       "      <td>35006</td>\n",
       "      <td>35.83</td>\n",
       "      <td>27.50</td>\n",
       "      <td>15.83</td>\n",
       "      <td>10.00</td>\n",
       "      <td>10.83</td>\n",
       "      <td>0.00</td>\n",
       "      <td>1200</td>\n",
       "    </tr>\n",
       "    <tr>\n",
       "      <th>3</th>\n",
       "      <td>1</td>\n",
       "      <td>AL</td>\n",
       "      <td>35007</td>\n",
       "      <td>34.09</td>\n",
       "      <td>22.19</td>\n",
       "      <td>15.24</td>\n",
       "      <td>11.22</td>\n",
       "      <td>15.24</td>\n",
       "      <td>2.01</td>\n",
       "      <td>11940</td>\n",
       "    </tr>\n",
       "    <tr>\n",
       "      <th>4</th>\n",
       "      <td>1</td>\n",
       "      <td>AL</td>\n",
       "      <td>35010</td>\n",
       "      <td>45.76</td>\n",
       "      <td>26.17</td>\n",
       "      <td>11.25</td>\n",
       "      <td>6.70</td>\n",
       "      <td>7.84</td>\n",
       "      <td>2.28</td>\n",
       "      <td>7910</td>\n",
       "    </tr>\n",
       "    <tr>\n",
       "      <th>5</th>\n",
       "      <td>1</td>\n",
       "      <td>AL</td>\n",
       "      <td>35014</td>\n",
       "      <td>40.74</td>\n",
       "      <td>28.40</td>\n",
       "      <td>12.96</td>\n",
       "      <td>8.64</td>\n",
       "      <td>7.41</td>\n",
       "      <td>1.85</td>\n",
       "      <td>1620</td>\n",
       "    </tr>\n",
       "    <tr>\n",
       "      <th>6</th>\n",
       "      <td>1</td>\n",
       "      <td>AL</td>\n",
       "      <td>35016</td>\n",
       "      <td>39.41</td>\n",
       "      <td>24.26</td>\n",
       "      <td>14.87</td>\n",
       "      <td>9.54</td>\n",
       "      <td>10.10</td>\n",
       "      <td>1.82</td>\n",
       "      <td>7130</td>\n",
       "    </tr>\n",
       "    <tr>\n",
       "      <th>7</th>\n",
       "      <td>1</td>\n",
       "      <td>AL</td>\n",
       "      <td>35019</td>\n",
       "      <td>40.45</td>\n",
       "      <td>28.09</td>\n",
       "      <td>15.73</td>\n",
       "      <td>6.74</td>\n",
       "      <td>8.99</td>\n",
       "      <td>0.00</td>\n",
       "      <td>890</td>\n",
       "    </tr>\n",
       "    <tr>\n",
       "      <th>8</th>\n",
       "      <td>1</td>\n",
       "      <td>AL</td>\n",
       "      <td>35020</td>\n",
       "      <td>60.22</td>\n",
       "      <td>27.29</td>\n",
       "      <td>7.96</td>\n",
       "      <td>2.54</td>\n",
       "      <td>1.77</td>\n",
       "      <td>0.22</td>\n",
       "      <td>9050</td>\n",
       "    </tr>\n",
       "    <tr>\n",
       "      <th>9</th>\n",
       "      <td>1</td>\n",
       "      <td>AL</td>\n",
       "      <td>35022</td>\n",
       "      <td>33.06</td>\n",
       "      <td>24.80</td>\n",
       "      <td>16.43</td>\n",
       "      <td>10.41</td>\n",
       "      <td>13.27</td>\n",
       "      <td>2.04</td>\n",
       "      <td>9800</td>\n",
       "    </tr>\n",
       "  </tbody>\n",
       "</table>\n",
       "</div>"
      ],
      "text/plain": [
       "   STATEFIPS STATE  zipcode  Returns_pct1  Returns_pct2  Returns_pct3  \\\n",
       "0          1    AL    35004         28.98         27.06         18.23   \n",
       "1          1    AL    35005         42.26         30.97         14.52   \n",
       "2          1    AL    35006         35.83         27.50         15.83   \n",
       "3          1    AL    35007         34.09         22.19         15.24   \n",
       "4          1    AL    35010         45.76         26.17         11.25   \n",
       "5          1    AL    35014         40.74         28.40         12.96   \n",
       "6          1    AL    35016         39.41         24.26         14.87   \n",
       "7          1    AL    35019         40.45         28.09         15.73   \n",
       "8          1    AL    35020         60.22         27.29          7.96   \n",
       "9          1    AL    35022         33.06         24.80         16.43   \n",
       "\n",
       "   Returns_pct4  Returns_pct5  Returns_pct6  total  \n",
       "0         12.48         12.09          1.15   5210  \n",
       "1          6.45          5.81          0.00   3100  \n",
       "2         10.00         10.83          0.00   1200  \n",
       "3         11.22         15.24          2.01  11940  \n",
       "4          6.70          7.84          2.28   7910  \n",
       "5          8.64          7.41          1.85   1620  \n",
       "6          9.54         10.10          1.82   7130  \n",
       "7          6.74          8.99          0.00    890  \n",
       "8          2.54          1.77          0.22   9050  \n",
       "9         10.41         13.27          2.04   9800  "
      ]
     },
     "execution_count": 35,
     "metadata": {},
     "output_type": "execute_result"
    }
   ],
   "source": [
    "import numpy as np\n",
    "import pandas as pd\n",
    "from sklearn.preprocessing import MinMaxScaler\n",
    "from sklearn.decomposition import PCA\n",
    "import matplotlib.pyplot as plt\n",
    "%matplotlib inline\n",
    "import warnings\n",
    "warnings.filterwarnings('ignore')\n",
    "\n",
    "# import the dataset\n",
    "# Making a list of missing value types\n",
    "missing_values = [\"?\", \"\"]\n",
    "df = pd.read_csv('AL_NJ_Income_pct.csv', na_values = missing_values) \n",
    "print(df.shape)\n",
    "df.head(10)"
   ]
  },
  {
   "cell_type": "markdown",
   "id": "20bba7ab",
   "metadata": {},
   "source": [
    "# EDA"
   ]
  },
  {
   "cell_type": "code",
   "execution_count": 36,
   "id": "7e1efd64",
   "metadata": {},
   "outputs": [
    {
     "data": {
      "text/plain": [
       "STATEFIPS       0\n",
       "STATE           0\n",
       "zipcode         0\n",
       "Returns_pct1    0\n",
       "Returns_pct2    0\n",
       "Returns_pct3    0\n",
       "Returns_pct4    0\n",
       "Returns_pct5    0\n",
       "Returns_pct6    0\n",
       "total           0\n",
       "dtype: int64"
      ]
     },
     "execution_count": 36,
     "metadata": {},
     "output_type": "execute_result"
    }
   ],
   "source": [
    "df.isnull().sum()"
   ]
  },
  {
   "cell_type": "code",
   "execution_count": 37,
   "id": "36cf5f53",
   "metadata": {},
   "outputs": [
    {
     "data": {
      "text/plain": [
       "array([[-3.72720802e-03, -2.10267683e-01],\n",
       "       [-3.10221493e-01,  2.46683501e-03],\n",
       "       [-1.06916192e-01, -1.21519302e-01],\n",
       "       [ 6.37935465e-02, -1.20772179e-01],\n",
       "       [-2.30039150e-01,  5.78927206e-02],\n",
       "       [-2.11629497e-01, -3.73205296e-02],\n",
       "       [-1.05302776e-01, -5.38815388e-02],\n",
       "       [-2.08586066e-01, -3.70474061e-03],\n",
       "       [-5.02595596e-01,  2.20212394e-01],\n",
       "       [ 4.89173637e-04, -1.09997806e-01]])"
      ]
     },
     "execution_count": 37,
     "metadata": {},
     "output_type": "execute_result"
    }
   ],
   "source": [
    "X = df.drop(['STATEFIPS', 'STATE', 'zipcode', 'total'], axis=1)\n",
    "y=df[['STATE']]\n",
    "\n",
    "scaled_features = MinMaxScaler().fit_transform(X)\n",
    "\n",
    "# Get two principal components\n",
    "pca = PCA(n_components= 2).fit(scaled_features)\n",
    "features_2d = pca.transform(scaled_features)\n",
    "features_2d[0:10]"
   ]
  },
  {
   "cell_type": "code",
   "execution_count": 38,
   "id": "a73cceb2",
   "metadata": {},
   "outputs": [
    {
     "data": {
      "image/png": "[encoded data removed]",
      "text/plain": [
       "<Figure size 1000x600 with 1 Axes>"
      ]
     },
     "metadata": {},
     "output_type": "display_data"
    }
   ],
   "source": [
    "plt.figure(figsize=(10,6))\n",
    "plt.scatter(features_2d[:,0], features_2d[:,1])\n",
    "plt.xlabel('Dimension 1')\n",
    "plt.ylabel('Dimension 2')\n",
    "plt.title('Data')\n",
    "plt.show()"
   ]
  },
  {
   "cell_type": "code",
   "execution_count": 39,
   "id": "76d41432",
   "metadata": {},
   "outputs": [],
   "source": [
    "from sklearn.model_selection import train_test_split\n",
    "X_train, X_test, y_train, y_test = train_test_split(scaled_features, df['STATE'], test_size=0.3, random_state=1)    # Use 30% test 70% training data."
   ]
  },
  {
   "cell_type": "markdown",
   "id": "2ca6b65a",
   "metadata": {},
   "source": [
    "# Problem 1 Clustering\n",
    "The “AL_NJ_Income_pct” CSV dataset on CANVAS categorizes the tax returns of families in the states of Alabama and New Jersey into six categories (Returns_pct1 to Returns_pct6). Use these six categories and Euclidian distance, to perform the following analysis"
   ]
  },
  {
   "cell_type": "markdown",
   "id": "6d8004b8",
   "metadata": {},
   "source": [
    "•\tUse the kmeans clustering method to create two clusters for the “AL_NJ_Income_pct” dataset."
   ]
  },
  {
   "cell_type": "code",
   "execution_count": 40,
   "id": "7232d0e4",
   "metadata": {},
   "outputs": [
    {
     "data": {
      "text/plain": [
       "array([0, 0, 0, ..., 0, 1, 1])"
      ]
     },
     "execution_count": 40,
     "metadata": {},
     "output_type": "execute_result"
    }
   ],
   "source": [
    "from sklearn.cluster import KMeans\n",
    "kmeans_2 = KMeans(n_clusters=2)\n",
    "kmeans_2.fit_predict(features_2d)"
   ]
  },
  {
   "cell_type": "code",
   "execution_count": 41,
   "id": "38f49735",
   "metadata": {},
   "outputs": [
    {
     "data": {
      "image/png": "[encoded data removed]",
      "text/plain": [
       "<Figure size 640x480 with 1 Axes>"
      ]
     },
     "metadata": {},
     "output_type": "display_data"
    }
   ],
   "source": [
    "# Visualizing the clustering \n",
    "\n",
    "plt.scatter(features_2d[:,0], features_2d[:,1], c= kmeans_2.labels_, cmap=\"cool\")\n",
    "plt.show()"
   ]
  },
  {
   "cell_type": "markdown",
   "id": "74851891",
   "metadata": {},
   "source": [
    "•\tShow the cross tabulation of the clusters versus the State feature."
   ]
  },
  {
   "cell_type": "code",
   "execution_count": 42,
   "id": "6247e9ab",
   "metadata": {},
   "outputs": [
    {
     "data": {
      "text/html": [
       "<div>\n",
       "<style scoped>\n",
       "    .dataframe tbody tr th:only-of-type {\n",
       "        vertical-align: middle;\n",
       "    }\n",
       "\n",
       "    .dataframe tbody tr th {\n",
       "        vertical-align: top;\n",
       "    }\n",
       "\n",
       "    .dataframe thead th {\n",
       "        text-align: right;\n",
       "    }\n",
       "</style>\n",
       "<table border=\"1\" class=\"dataframe\">\n",
       "  <thead>\n",
       "    <tr style=\"text-align: right;\">\n",
       "      <th></th>\n",
       "      <th>STATE</th>\n",
       "      <th>Cluster</th>\n",
       "    </tr>\n",
       "  </thead>\n",
       "  <tbody>\n",
       "    <tr>\n",
       "      <th>0</th>\n",
       "      <td>AL</td>\n",
       "      <td>0</td>\n",
       "    </tr>\n",
       "    <tr>\n",
       "      <th>1</th>\n",
       "      <td>AL</td>\n",
       "      <td>0</td>\n",
       "    </tr>\n",
       "    <tr>\n",
       "      <th>2</th>\n",
       "      <td>AL</td>\n",
       "      <td>0</td>\n",
       "    </tr>\n",
       "    <tr>\n",
       "      <th>3</th>\n",
       "      <td>AL</td>\n",
       "      <td>1</td>\n",
       "    </tr>\n",
       "    <tr>\n",
       "      <th>4</th>\n",
       "      <td>AL</td>\n",
       "      <td>0</td>\n",
       "    </tr>\n",
       "    <tr>\n",
       "      <th>5</th>\n",
       "      <td>AL</td>\n",
       "      <td>0</td>\n",
       "    </tr>\n",
       "    <tr>\n",
       "      <th>6</th>\n",
       "      <td>AL</td>\n",
       "      <td>0</td>\n",
       "    </tr>\n",
       "    <tr>\n",
       "      <th>7</th>\n",
       "      <td>AL</td>\n",
       "      <td>0</td>\n",
       "    </tr>\n",
       "    <tr>\n",
       "      <th>8</th>\n",
       "      <td>AL</td>\n",
       "      <td>0</td>\n",
       "    </tr>\n",
       "    <tr>\n",
       "      <th>9</th>\n",
       "      <td>AL</td>\n",
       "      <td>0</td>\n",
       "    </tr>\n",
       "    <tr>\n",
       "      <th>10</th>\n",
       "      <td>AL</td>\n",
       "      <td>0</td>\n",
       "    </tr>\n",
       "    <tr>\n",
       "      <th>11</th>\n",
       "      <td>AL</td>\n",
       "      <td>0</td>\n",
       "    </tr>\n",
       "    <tr>\n",
       "      <th>12</th>\n",
       "      <td>AL</td>\n",
       "      <td>0</td>\n",
       "    </tr>\n",
       "    <tr>\n",
       "      <th>13</th>\n",
       "      <td>AL</td>\n",
       "      <td>0</td>\n",
       "    </tr>\n",
       "    <tr>\n",
       "      <th>14</th>\n",
       "      <td>AL</td>\n",
       "      <td>0</td>\n",
       "    </tr>\n",
       "    <tr>\n",
       "      <th>15</th>\n",
       "      <td>AL</td>\n",
       "      <td>0</td>\n",
       "    </tr>\n",
       "    <tr>\n",
       "      <th>16</th>\n",
       "      <td>AL</td>\n",
       "      <td>0</td>\n",
       "    </tr>\n",
       "    <tr>\n",
       "      <th>17</th>\n",
       "      <td>AL</td>\n",
       "      <td>1</td>\n",
       "    </tr>\n",
       "    <tr>\n",
       "      <th>18</th>\n",
       "      <td>AL</td>\n",
       "      <td>0</td>\n",
       "    </tr>\n",
       "    <tr>\n",
       "      <th>19</th>\n",
       "      <td>AL</td>\n",
       "      <td>0</td>\n",
       "    </tr>\n",
       "  </tbody>\n",
       "</table>\n",
       "</div>"
      ],
      "text/plain": [
       "   STATE Cluster\n",
       "0     AL       0\n",
       "1     AL       0\n",
       "2     AL       0\n",
       "3     AL       1\n",
       "4     AL       0\n",
       "5     AL       0\n",
       "6     AL       0\n",
       "7     AL       0\n",
       "8     AL       0\n",
       "9     AL       0\n",
       "10    AL       0\n",
       "11    AL       0\n",
       "12    AL       0\n",
       "13    AL       0\n",
       "14    AL       0\n",
       "15    AL       0\n",
       "16    AL       0\n",
       "17    AL       1\n",
       "18    AL       0\n",
       "19    AL       0"
      ]
     },
     "execution_count": 42,
     "metadata": {},
     "output_type": "execute_result"
    }
   ],
   "source": [
    "Table_1 = df[['STATE']]\n",
    "Table_1[\"Cluster\"] = kmeans_2.fit_predict(features_2d)\n",
    "Table_1[\"Cluster\"] = Table_1[\"Cluster\"].astype(\"category\")\n",
    "\n",
    "Table_1.head(20)"
   ]
  },
  {
   "cell_type": "code",
   "execution_count": 43,
   "id": "9687c331",
   "metadata": {},
   "outputs": [
    {
     "data": {
      "text/html": [
       "<div>\n",
       "<style scoped>\n",
       "    .dataframe tbody tr th:only-of-type {\n",
       "        vertical-align: middle;\n",
       "    }\n",
       "\n",
       "    .dataframe tbody tr th {\n",
       "        vertical-align: top;\n",
       "    }\n",
       "\n",
       "    .dataframe thead th {\n",
       "        text-align: right;\n",
       "    }\n",
       "</style>\n",
       "<table border=\"1\" class=\"dataframe\">\n",
       "  <thead>\n",
       "    <tr style=\"text-align: right;\">\n",
       "      <th>Cluster</th>\n",
       "      <th>0</th>\n",
       "      <th>1</th>\n",
       "    </tr>\n",
       "    <tr>\n",
       "      <th>STATE</th>\n",
       "      <th></th>\n",
       "      <th></th>\n",
       "    </tr>\n",
       "  </thead>\n",
       "  <tbody>\n",
       "    <tr>\n",
       "      <th>AL</th>\n",
       "      <td>519</td>\n",
       "      <td>72</td>\n",
       "    </tr>\n",
       "    <tr>\n",
       "      <th>NJ</th>\n",
       "      <td>168</td>\n",
       "      <td>408</td>\n",
       "    </tr>\n",
       "  </tbody>\n",
       "</table>\n",
       "</div>"
      ],
      "text/plain": [
       "Cluster    0    1\n",
       "STATE            \n",
       "AL       519   72\n",
       "NJ       168  408"
      ]
     },
     "execution_count": 43,
     "metadata": {},
     "output_type": "execute_result"
    }
   ],
   "source": [
    "pd.crosstab(Table_1['STATE'], Table_1['Cluster'])"
   ]
  },
  {
   "cell_type": "markdown",
   "id": "50f2604a",
   "metadata": {},
   "source": [
    "•\tUse the hierarchical clustering method and single linkage to create 4 clusters for the the “AL_NJ_Income_pct” dataset"
   ]
  },
  {
   "cell_type": "code",
   "execution_count": 44,
   "id": "c330e449",
   "metadata": {},
   "outputs": [
    {
     "data": {
      "text/plain": [
       "array([0, 0, 0, ..., 0, 0, 0], dtype=int64)"
      ]
     },
     "execution_count": 44,
     "metadata": {},
     "output_type": "execute_result"
    }
   ],
   "source": [
    "from sklearn.cluster import AgglomerativeClustering\n",
    "\n",
    "hclust = AgglomerativeClustering(n_clusters=4, affinity='euclidean', linkage='single')\n",
    "hclust.fit_predict(features_2d)"
   ]
  },
  {
   "cell_type": "code",
   "execution_count": 45,
   "id": "067d1c5b",
   "metadata": {},
   "outputs": [
    {
     "data": {
      "image/png": "[encoded data removed]",
      "text/plain": [
       "<Figure size 640x480 with 1 Axes>"
      ]
     },
     "metadata": {},
     "output_type": "display_data"
    }
   ],
   "source": [
    "# plotting the clusters\n",
    "for c in np.unique(hclust.fit_predict(features_2d)):\n",
    "    plt.scatter(features_2d[hclust.fit_predict(features_2d) == c, 0],\n",
    "                features_2d[hclust.fit_predict(features_2d) == c, 1], label='cluster='+str(c), alpha=.5)"
   ]
  },
  {
   "cell_type": "code",
   "execution_count": 46,
   "id": "a6f69823",
   "metadata": {},
   "outputs": [
    {
     "data": {
      "text/html": [
       "<div>\n",
       "<style scoped>\n",
       "    .dataframe tbody tr th:only-of-type {\n",
       "        vertical-align: middle;\n",
       "    }\n",
       "\n",
       "    .dataframe tbody tr th {\n",
       "        vertical-align: top;\n",
       "    }\n",
       "\n",
       "    .dataframe thead th {\n",
       "        text-align: right;\n",
       "    }\n",
       "</style>\n",
       "<table border=\"1\" class=\"dataframe\">\n",
       "  <thead>\n",
       "    <tr style=\"text-align: right;\">\n",
       "      <th></th>\n",
       "      <th>STATE</th>\n",
       "      <th>Cluster</th>\n",
       "    </tr>\n",
       "  </thead>\n",
       "  <tbody>\n",
       "    <tr>\n",
       "      <th>0</th>\n",
       "      <td>AL</td>\n",
       "      <td>0</td>\n",
       "    </tr>\n",
       "    <tr>\n",
       "      <th>1</th>\n",
       "      <td>AL</td>\n",
       "      <td>0</td>\n",
       "    </tr>\n",
       "    <tr>\n",
       "      <th>2</th>\n",
       "      <td>AL</td>\n",
       "      <td>0</td>\n",
       "    </tr>\n",
       "    <tr>\n",
       "      <th>3</th>\n",
       "      <td>AL</td>\n",
       "      <td>0</td>\n",
       "    </tr>\n",
       "    <tr>\n",
       "      <th>4</th>\n",
       "      <td>AL</td>\n",
       "      <td>0</td>\n",
       "    </tr>\n",
       "    <tr>\n",
       "      <th>5</th>\n",
       "      <td>AL</td>\n",
       "      <td>0</td>\n",
       "    </tr>\n",
       "    <tr>\n",
       "      <th>6</th>\n",
       "      <td>AL</td>\n",
       "      <td>0</td>\n",
       "    </tr>\n",
       "    <tr>\n",
       "      <th>7</th>\n",
       "      <td>AL</td>\n",
       "      <td>0</td>\n",
       "    </tr>\n",
       "    <tr>\n",
       "      <th>8</th>\n",
       "      <td>AL</td>\n",
       "      <td>0</td>\n",
       "    </tr>\n",
       "    <tr>\n",
       "      <th>9</th>\n",
       "      <td>AL</td>\n",
       "      <td>0</td>\n",
       "    </tr>\n",
       "    <tr>\n",
       "      <th>10</th>\n",
       "      <td>AL</td>\n",
       "      <td>0</td>\n",
       "    </tr>\n",
       "    <tr>\n",
       "      <th>11</th>\n",
       "      <td>AL</td>\n",
       "      <td>0</td>\n",
       "    </tr>\n",
       "    <tr>\n",
       "      <th>12</th>\n",
       "      <td>AL</td>\n",
       "      <td>0</td>\n",
       "    </tr>\n",
       "    <tr>\n",
       "      <th>13</th>\n",
       "      <td>AL</td>\n",
       "      <td>0</td>\n",
       "    </tr>\n",
       "    <tr>\n",
       "      <th>14</th>\n",
       "      <td>AL</td>\n",
       "      <td>0</td>\n",
       "    </tr>\n",
       "    <tr>\n",
       "      <th>15</th>\n",
       "      <td>AL</td>\n",
       "      <td>0</td>\n",
       "    </tr>\n",
       "    <tr>\n",
       "      <th>16</th>\n",
       "      <td>AL</td>\n",
       "      <td>0</td>\n",
       "    </tr>\n",
       "    <tr>\n",
       "      <th>17</th>\n",
       "      <td>AL</td>\n",
       "      <td>0</td>\n",
       "    </tr>\n",
       "    <tr>\n",
       "      <th>18</th>\n",
       "      <td>AL</td>\n",
       "      <td>0</td>\n",
       "    </tr>\n",
       "    <tr>\n",
       "      <th>19</th>\n",
       "      <td>AL</td>\n",
       "      <td>0</td>\n",
       "    </tr>\n",
       "  </tbody>\n",
       "</table>\n",
       "</div>"
      ],
      "text/plain": [
       "   STATE Cluster\n",
       "0     AL       0\n",
       "1     AL       0\n",
       "2     AL       0\n",
       "3     AL       0\n",
       "4     AL       0\n",
       "5     AL       0\n",
       "6     AL       0\n",
       "7     AL       0\n",
       "8     AL       0\n",
       "9     AL       0\n",
       "10    AL       0\n",
       "11    AL       0\n",
       "12    AL       0\n",
       "13    AL       0\n",
       "14    AL       0\n",
       "15    AL       0\n",
       "16    AL       0\n",
       "17    AL       0\n",
       "18    AL       0\n",
       "19    AL       0"
      ]
     },
     "execution_count": 46,
     "metadata": {},
     "output_type": "execute_result"
    }
   ],
   "source": [
    "Table_2 = df[['STATE']]\n",
    "Table_2[\"Cluster\"] = hclust.fit_predict(features_2d)\n",
    "Table_2[\"Cluster\"] = Table_2[\"Cluster\"].astype(\"category\")\n",
    "\n",
    "Table_2.head(20)"
   ]
  },
  {
   "cell_type": "code",
   "execution_count": 47,
   "id": "f477cafb",
   "metadata": {},
   "outputs": [
    {
     "data": {
      "text/html": [
       "<div>\n",
       "<style scoped>\n",
       "    .dataframe tbody tr th:only-of-type {\n",
       "        vertical-align: middle;\n",
       "    }\n",
       "\n",
       "    .dataframe tbody tr th {\n",
       "        vertical-align: top;\n",
       "    }\n",
       "\n",
       "    .dataframe thead th {\n",
       "        text-align: right;\n",
       "    }\n",
       "</style>\n",
       "<table border=\"1\" class=\"dataframe\">\n",
       "  <thead>\n",
       "    <tr style=\"text-align: right;\">\n",
       "      <th>Cluster</th>\n",
       "      <th>0</th>\n",
       "      <th>1</th>\n",
       "      <th>2</th>\n",
       "      <th>3</th>\n",
       "    </tr>\n",
       "    <tr>\n",
       "      <th>STATE</th>\n",
       "      <th></th>\n",
       "      <th></th>\n",
       "      <th></th>\n",
       "      <th></th>\n",
       "    </tr>\n",
       "  </thead>\n",
       "  <tbody>\n",
       "    <tr>\n",
       "      <th>AL</th>\n",
       "      <td>590</td>\n",
       "      <td>0</td>\n",
       "      <td>0</td>\n",
       "      <td>1</td>\n",
       "    </tr>\n",
       "    <tr>\n",
       "      <th>NJ</th>\n",
       "      <td>574</td>\n",
       "      <td>1</td>\n",
       "      <td>1</td>\n",
       "      <td>0</td>\n",
       "    </tr>\n",
       "  </tbody>\n",
       "</table>\n",
       "</div>"
      ],
      "text/plain": [
       "Cluster    0  1  2  3\n",
       "STATE                \n",
       "AL       590  0  0  1\n",
       "NJ       574  1  1  0"
      ]
     },
     "execution_count": 47,
     "metadata": {},
     "output_type": "execute_result"
    }
   ],
   "source": [
    "pd.crosstab(Table_2['STATE'], Table_2['Cluster'])"
   ]
  },
  {
   "cell_type": "markdown",
   "id": "09be2581",
   "metadata": {},
   "source": [
    "•\tIdentify the outliers (if any)."
   ]
  },
  {
   "cell_type": "markdown",
   "id": "c9f0353d",
   "metadata": {},
   "source": [
    "Detecting Outliers using DBSCAN"
   ]
  },
  {
   "cell_type": "code",
   "execution_count": 48,
   "id": "3026432b",
   "metadata": {},
   "outputs": [],
   "source": [
    "from sklearn.cluster import DBSCAN\n",
    "model = DBSCAN(eps = 0.06, min_samples = 5).fit(features_2d)"
   ]
  },
  {
   "cell_type": "code",
   "execution_count": 49,
   "id": "08521017",
   "metadata": {},
   "outputs": [],
   "source": [
    "# visualize outputs\n",
    "colors = model.labels_"
   ]
  },
  {
   "cell_type": "code",
   "execution_count": 50,
   "id": "9129c2d7",
   "metadata": {},
   "outputs": [
    {
     "data": {
      "text/plain": [
       "<matplotlib.collections.PathCollection at 0x2a6533b1e80>"
      ]
     },
     "execution_count": 50,
     "metadata": {},
     "output_type": "execute_result"
    },
    {
     "data": {
      "image/png": "[encoded data removed]",
      "text/plain": [
       "<Figure size 640x480 with 1 Axes>"
      ]
     },
     "metadata": {},
     "output_type": "display_data"
    }
   ],
   "source": [
    "plt.scatter(features_2d[:,0], features_2d[:,1], c = colors)"
   ]
  },
  {
   "cell_type": "code",
   "execution_count": 51,
   "id": "17ab454e",
   "metadata": {},
   "outputs": [
    {
     "data": {
      "text/html": [
       "<div>\n",
       "<style scoped>\n",
       "    .dataframe tbody tr th:only-of-type {\n",
       "        vertical-align: middle;\n",
       "    }\n",
       "\n",
       "    .dataframe tbody tr th {\n",
       "        vertical-align: top;\n",
       "    }\n",
       "\n",
       "    .dataframe thead th {\n",
       "        text-align: right;\n",
       "    }\n",
       "</style>\n",
       "<table border=\"1\" class=\"dataframe\">\n",
       "  <thead>\n",
       "    <tr style=\"text-align: right;\">\n",
       "      <th></th>\n",
       "      <th>Returns_pct1</th>\n",
       "      <th>Returns_pct2</th>\n",
       "      <th>Returns_pct3</th>\n",
       "      <th>Returns_pct4</th>\n",
       "      <th>Returns_pct5</th>\n",
       "      <th>Returns_pct6</th>\n",
       "    </tr>\n",
       "  </thead>\n",
       "  <tbody>\n",
       "    <tr>\n",
       "      <th>45</th>\n",
       "      <td>24.60</td>\n",
       "      <td>17.46</td>\n",
       "      <td>18.25</td>\n",
       "      <td>15.08</td>\n",
       "      <td>23.02</td>\n",
       "      <td>1.59</td>\n",
       "    </tr>\n",
       "    <tr>\n",
       "      <th>89</th>\n",
       "      <td>40.00</td>\n",
       "      <td>20.00</td>\n",
       "      <td>11.85</td>\n",
       "      <td>7.41</td>\n",
       "      <td>11.85</td>\n",
       "      <td>8.89</td>\n",
       "    </tr>\n",
       "    <tr>\n",
       "      <th>95</th>\n",
       "      <td>33.58</td>\n",
       "      <td>22.22</td>\n",
       "      <td>11.78</td>\n",
       "      <td>7.69</td>\n",
       "      <td>15.29</td>\n",
       "      <td>9.44</td>\n",
       "    </tr>\n",
       "    <tr>\n",
       "      <th>203</th>\n",
       "      <td>32.56</td>\n",
       "      <td>30.23</td>\n",
       "      <td>13.95</td>\n",
       "      <td>13.95</td>\n",
       "      <td>9.30</td>\n",
       "      <td>0.00</td>\n",
       "    </tr>\n",
       "    <tr>\n",
       "      <th>229</th>\n",
       "      <td>40.74</td>\n",
       "      <td>29.63</td>\n",
       "      <td>18.52</td>\n",
       "      <td>0.00</td>\n",
       "      <td>11.11</td>\n",
       "      <td>0.00</td>\n",
       "    </tr>\n",
       "    <tr>\n",
       "      <th>236</th>\n",
       "      <td>22.80</td>\n",
       "      <td>13.51</td>\n",
       "      <td>11.28</td>\n",
       "      <td>10.90</td>\n",
       "      <td>30.73</td>\n",
       "      <td>10.78</td>\n",
       "    </tr>\n",
       "    <tr>\n",
       "      <th>251</th>\n",
       "      <td>16.28</td>\n",
       "      <td>13.95</td>\n",
       "      <td>16.28</td>\n",
       "      <td>13.95</td>\n",
       "      <td>34.88</td>\n",
       "      <td>4.65</td>\n",
       "    </tr>\n",
       "    <tr>\n",
       "      <th>309</th>\n",
       "      <td>39.47</td>\n",
       "      <td>26.32</td>\n",
       "      <td>15.79</td>\n",
       "      <td>0.00</td>\n",
       "      <td>18.42</td>\n",
       "      <td>0.00</td>\n",
       "    </tr>\n",
       "    <tr>\n",
       "      <th>393</th>\n",
       "      <td>50.00</td>\n",
       "      <td>37.50</td>\n",
       "      <td>0.00</td>\n",
       "      <td>12.50</td>\n",
       "      <td>0.00</td>\n",
       "      <td>0.00</td>\n",
       "    </tr>\n",
       "    <tr>\n",
       "      <th>443</th>\n",
       "      <td>63.64</td>\n",
       "      <td>36.36</td>\n",
       "      <td>0.00</td>\n",
       "      <td>0.00</td>\n",
       "      <td>0.00</td>\n",
       "      <td>0.00</td>\n",
       "    </tr>\n",
       "    <tr>\n",
       "      <th>465</th>\n",
       "      <td>57.14</td>\n",
       "      <td>28.57</td>\n",
       "      <td>0.00</td>\n",
       "      <td>14.29</td>\n",
       "      <td>0.00</td>\n",
       "      <td>0.00</td>\n",
       "    </tr>\n",
       "    <tr>\n",
       "      <th>477</th>\n",
       "      <td>41.67</td>\n",
       "      <td>41.67</td>\n",
       "      <td>0.00</td>\n",
       "      <td>16.67</td>\n",
       "      <td>0.00</td>\n",
       "      <td>0.00</td>\n",
       "    </tr>\n",
       "    <tr>\n",
       "      <th>479</th>\n",
       "      <td>34.15</td>\n",
       "      <td>12.20</td>\n",
       "      <td>12.20</td>\n",
       "      <td>7.32</td>\n",
       "      <td>17.07</td>\n",
       "      <td>17.07</td>\n",
       "    </tr>\n",
       "    <tr>\n",
       "      <th>524</th>\n",
       "      <td>52.17</td>\n",
       "      <td>39.13</td>\n",
       "      <td>0.00</td>\n",
       "      <td>8.70</td>\n",
       "      <td>0.00</td>\n",
       "      <td>0.00</td>\n",
       "    </tr>\n",
       "    <tr>\n",
       "      <th>552</th>\n",
       "      <td>30.00</td>\n",
       "      <td>30.00</td>\n",
       "      <td>20.00</td>\n",
       "      <td>20.00</td>\n",
       "      <td>0.00</td>\n",
       "      <td>0.00</td>\n",
       "    </tr>\n",
       "    <tr>\n",
       "      <th>554</th>\n",
       "      <td>33.33</td>\n",
       "      <td>28.57</td>\n",
       "      <td>19.05</td>\n",
       "      <td>19.05</td>\n",
       "      <td>0.00</td>\n",
       "      <td>0.00</td>\n",
       "    </tr>\n",
       "    <tr>\n",
       "      <th>580</th>\n",
       "      <td>61.54</td>\n",
       "      <td>38.46</td>\n",
       "      <td>0.00</td>\n",
       "      <td>0.00</td>\n",
       "      <td>0.00</td>\n",
       "      <td>0.00</td>\n",
       "    </tr>\n",
       "    <tr>\n",
       "      <th>585</th>\n",
       "      <td>38.10</td>\n",
       "      <td>28.57</td>\n",
       "      <td>14.29</td>\n",
       "      <td>19.05</td>\n",
       "      <td>0.00</td>\n",
       "      <td>0.00</td>\n",
       "    </tr>\n",
       "    <tr>\n",
       "      <th>608</th>\n",
       "      <td>20.91</td>\n",
       "      <td>8.18</td>\n",
       "      <td>8.18</td>\n",
       "      <td>6.36</td>\n",
       "      <td>18.18</td>\n",
       "      <td>38.18</td>\n",
       "    </tr>\n",
       "    <tr>\n",
       "      <th>610</th>\n",
       "      <td>22.71</td>\n",
       "      <td>11.63</td>\n",
       "      <td>10.53</td>\n",
       "      <td>8.59</td>\n",
       "      <td>29.64</td>\n",
       "      <td>16.90</td>\n",
       "    </tr>\n",
       "  </tbody>\n",
       "</table>\n",
       "</div>"
      ],
      "text/plain": [
       "     Returns_pct1  Returns_pct2  Returns_pct3  Returns_pct4  Returns_pct5  \\\n",
       "45          24.60         17.46         18.25         15.08         23.02   \n",
       "89          40.00         20.00         11.85          7.41         11.85   \n",
       "95          33.58         22.22         11.78          7.69         15.29   \n",
       "203         32.56         30.23         13.95         13.95          9.30   \n",
       "229         40.74         29.63         18.52          0.00         11.11   \n",
       "236         22.80         13.51         11.28         10.90         30.73   \n",
       "251         16.28         13.95         16.28         13.95         34.88   \n",
       "309         39.47         26.32         15.79          0.00         18.42   \n",
       "393         50.00         37.50          0.00         12.50          0.00   \n",
       "443         63.64         36.36          0.00          0.00          0.00   \n",
       "465         57.14         28.57          0.00         14.29          0.00   \n",
       "477         41.67         41.67          0.00         16.67          0.00   \n",
       "479         34.15         12.20         12.20          7.32         17.07   \n",
       "524         52.17         39.13          0.00          8.70          0.00   \n",
       "552         30.00         30.00         20.00         20.00          0.00   \n",
       "554         33.33         28.57         19.05         19.05          0.00   \n",
       "580         61.54         38.46          0.00          0.00          0.00   \n",
       "585         38.10         28.57         14.29         19.05          0.00   \n",
       "608         20.91          8.18          8.18          6.36         18.18   \n",
       "610         22.71         11.63         10.53          8.59         29.64   \n",
       "\n",
       "     Returns_pct6  \n",
       "45           1.59  \n",
       "89           8.89  \n",
       "95           9.44  \n",
       "203          0.00  \n",
       "229          0.00  \n",
       "236         10.78  \n",
       "251          4.65  \n",
       "309          0.00  \n",
       "393          0.00  \n",
       "443          0.00  \n",
       "465          0.00  \n",
       "477          0.00  \n",
       "479         17.07  \n",
       "524          0.00  \n",
       "552          0.00  \n",
       "554          0.00  \n",
       "580          0.00  \n",
       "585          0.00  \n",
       "608         38.18  \n",
       "610         16.90  "
      ]
     },
     "execution_count": 51,
     "metadata": {},
     "output_type": "execute_result"
    }
   ],
   "source": [
    "outliers =X[model.labels_ == -1]\n",
    "outliers.head(20)"
   ]
  },
  {
   "cell_type": "code",
   "execution_count": 52,
   "id": "f6fdd3dc",
   "metadata": {},
   "outputs": [
    {
     "name": "stdout",
     "output_type": "stream",
     "text": [
      "(44, 6)\n"
     ]
    }
   ],
   "source": [
    "print(outliers.shape)"
   ]
  },
  {
   "cell_type": "markdown",
   "id": "a6d52d18",
   "metadata": {},
   "source": [
    "We can see there are 44 outliers."
   ]
  },
  {
   "cell_type": "markdown",
   "id": "fe1e2b24",
   "metadata": {},
   "source": [
    "# Problem 2 Random Forest"
   ]
  },
  {
   "cell_type": "markdown",
   "id": "8858d586",
   "metadata": {},
   "source": [
    "Use the Random Forest methodology to develop a classification model for the “State” (target), using the Returns_pct1 to Returns_pct6 features in the “AL_NJ_Income_pct dataset. \n",
    "\n",
    "•\tShow the cross tabulation of the classification.\n",
    "\n",
    "\n"
   ]
  },
  {
   "cell_type": "code",
   "execution_count": 53,
   "id": "67e1a9da",
   "metadata": {},
   "outputs": [],
   "source": [
    "from sklearn.ensemble import RandomForestClassifier\n",
    "from sklearn.metrics import accuracy_score\n",
    "\n",
    "# instantiate the classifier with n_estimators = 100\n",
    "\n",
    "rfc_100 = RandomForestClassifier(n_estimators=100, random_state=0)\n",
    "\n",
    "\n",
    "# fit the model to the training set\n",
    "\n",
    "rfc_100.fit(X_train, y_train)\n",
    "\n",
    "\n",
    "# Predict on the test set results\n",
    "\n",
    "y_pred_100 = rfc_100.predict(X_test)"
   ]
  },
  {
   "cell_type": "code",
   "execution_count": 54,
   "id": "54404903",
   "metadata": {},
   "outputs": [
    {
     "data": {
      "text/html": [
       "<div>\n",
       "<style scoped>\n",
       "    .dataframe tbody tr th:only-of-type {\n",
       "        vertical-align: middle;\n",
       "    }\n",
       "\n",
       "    .dataframe tbody tr th {\n",
       "        vertical-align: top;\n",
       "    }\n",
       "\n",
       "    .dataframe thead th {\n",
       "        text-align: right;\n",
       "    }\n",
       "</style>\n",
       "<table border=\"1\" class=\"dataframe\">\n",
       "  <thead>\n",
       "    <tr style=\"text-align: right;\">\n",
       "      <th>Predicted</th>\n",
       "      <th>AL</th>\n",
       "      <th>NJ</th>\n",
       "      <th>All</th>\n",
       "    </tr>\n",
       "    <tr>\n",
       "      <th>Actual</th>\n",
       "      <th></th>\n",
       "      <th></th>\n",
       "      <th></th>\n",
       "    </tr>\n",
       "  </thead>\n",
       "  <tbody>\n",
       "    <tr>\n",
       "      <th>AL</th>\n",
       "      <td>148</td>\n",
       "      <td>35</td>\n",
       "      <td>183</td>\n",
       "    </tr>\n",
       "    <tr>\n",
       "      <th>NJ</th>\n",
       "      <td>31</td>\n",
       "      <td>137</td>\n",
       "      <td>168</td>\n",
       "    </tr>\n",
       "    <tr>\n",
       "      <th>All</th>\n",
       "      <td>179</td>\n",
       "      <td>172</td>\n",
       "      <td>351</td>\n",
       "    </tr>\n",
       "  </tbody>\n",
       "</table>\n",
       "</div>"
      ],
      "text/plain": [
       "Predicted   AL   NJ  All\n",
       "Actual                  \n",
       "AL         148   35  183\n",
       "NJ          31  137  168\n",
       "All        179  172  351"
      ]
     },
     "execution_count": 54,
     "metadata": {},
     "output_type": "execute_result"
    }
   ],
   "source": [
    "pd.crosstab(y_test, y_pred_100, margins=True, rownames=['Actual'], colnames=['Predicted'])"
   ]
  },
  {
   "cell_type": "markdown",
   "id": "98a55ef8",
   "metadata": {},
   "source": [
    "•\tWhat is the accuracy of your model?\n",
    "\n",
    "•\tWhat is the precision of the model?\n",
    "\n",
    "•\tWhat is the recall of the model?\n",
    "\n",
    "•\tWhat is the F1 of the model?"
   ]
  },
  {
   "cell_type": "code",
   "execution_count": 55,
   "id": "d4a046ec",
   "metadata": {},
   "outputs": [
    {
     "name": "stdout",
     "output_type": "stream",
     "text": [
      "Model accuracy score of Random Forest: 0.8120\n"
     ]
    }
   ],
   "source": [
    "# Check accuracy score \n",
    "\n",
    "print('Model accuracy score of Random Forest: {0:0.4f}'. format(accuracy_score(y_test, y_pred_100)))"
   ]
  },
  {
   "cell_type": "code",
   "execution_count": 56,
   "id": "b07d9a63",
   "metadata": {},
   "outputs": [
    {
     "name": "stdout",
     "output_type": "stream",
     "text": [
      "              precision    recall  f1-score   support\n",
      "\n",
      "          AL       0.83      0.81      0.82       183\n",
      "          NJ       0.80      0.82      0.81       168\n",
      "\n",
      "    accuracy                           0.81       351\n",
      "   macro avg       0.81      0.81      0.81       351\n",
      "weighted avg       0.81      0.81      0.81       351\n",
      "\n"
     ]
    }
   ],
   "source": [
    "from sklearn.metrics import classification_report\n",
    "print(classification_report(y_test,y_pred_100))"
   ]
  },
  {
   "cell_type": "markdown",
   "id": "a13bdb3f",
   "metadata": {},
   "source": [
    "# Problem 3 C5.0 Forest"
   ]
  },
  {
   "cell_type": "markdown",
   "id": "c850a0ce",
   "metadata": {},
   "source": [
    "Use the C5.0 Forest methodology to develop a classification model for the “State” (target), using the Returns_pct1 to Returns_pct6 features in the “AL_NJ_Income_pct dataset. \n",
    "\n",
    "•\tShow the cross tabulation of the classification. \n",
    "\n"
   ]
  },
  {
   "cell_type": "code",
   "execution_count": 57,
   "id": "66abfa35",
   "metadata": {},
   "outputs": [
    {
     "data": {
      "text/html": [
       "<div>\n",
       "<style scoped>\n",
       "    .dataframe tbody tr th:only-of-type {\n",
       "        vertical-align: middle;\n",
       "    }\n",
       "\n",
       "    .dataframe tbody tr th {\n",
       "        vertical-align: top;\n",
       "    }\n",
       "\n",
       "    .dataframe thead th {\n",
       "        text-align: right;\n",
       "    }\n",
       "</style>\n",
       "<table border=\"1\" class=\"dataframe\">\n",
       "  <thead>\n",
       "    <tr style=\"text-align: right;\">\n",
       "      <th>Predicted</th>\n",
       "      <th>AL</th>\n",
       "      <th>NJ</th>\n",
       "      <th>All</th>\n",
       "    </tr>\n",
       "    <tr>\n",
       "      <th>Actual</th>\n",
       "      <th></th>\n",
       "      <th></th>\n",
       "      <th></th>\n",
       "    </tr>\n",
       "  </thead>\n",
       "  <tbody>\n",
       "    <tr>\n",
       "      <th>AL</th>\n",
       "      <td>148</td>\n",
       "      <td>35</td>\n",
       "      <td>183</td>\n",
       "    </tr>\n",
       "    <tr>\n",
       "      <th>NJ</th>\n",
       "      <td>42</td>\n",
       "      <td>126</td>\n",
       "      <td>168</td>\n",
       "    </tr>\n",
       "    <tr>\n",
       "      <th>All</th>\n",
       "      <td>190</td>\n",
       "      <td>161</td>\n",
       "      <td>351</td>\n",
       "    </tr>\n",
       "  </tbody>\n",
       "</table>\n",
       "</div>"
      ],
      "text/plain": [
       "Predicted   AL   NJ  All\n",
       "Actual                  \n",
       "AL         148   35  183\n",
       "NJ          42  126  168\n",
       "All        190  161  351"
      ]
     },
     "execution_count": 57,
     "metadata": {},
     "output_type": "execute_result"
    }
   ],
   "source": [
    "# import DecisionTreeClassifier\n",
    "from sklearn.tree import DecisionTreeClassifier\n",
    "\n",
    "# Instantiate dt\n",
    "dt =  DecisionTreeClassifier(criterion='entropy', max_depth=6, random_state=1)#C5.0 use criterion parameter as entropy.\n",
    "\n",
    "# Fit dt to the training set\n",
    "dt.fit(X_train, y_train)\n",
    "\n",
    "y_pred_c5 = dt.predict(X_test)\n",
    "\n",
    "pd.crosstab(y_test, y_pred_c5, margins=True, rownames=['Actual'], colnames=['Predicted'])"
   ]
  },
  {
   "cell_type": "markdown",
   "id": "29534807",
   "metadata": {},
   "source": [
    "•\tWhat is the accuracy of your model?\n",
    "\n",
    "•\tWhat is the precision of the model?\n",
    "\n",
    "•\tWhat is the recall of the model?\n",
    "\n",
    "•\tWhat is the F1 of the model?"
   ]
  },
  {
   "cell_type": "code",
   "execution_count": 58,
   "id": "2ec6c87f",
   "metadata": {},
   "outputs": [
    {
     "name": "stdout",
     "output_type": "stream",
     "text": [
      "              precision    recall  f1-score   support\n",
      "\n",
      "          AL       0.78      0.81      0.79       183\n",
      "          NJ       0.78      0.75      0.77       168\n",
      "\n",
      "    accuracy                           0.78       351\n",
      "   macro avg       0.78      0.78      0.78       351\n",
      "weighted avg       0.78      0.78      0.78       351\n",
      "\n"
     ]
    }
   ],
   "source": [
    "print(classification_report(y_test,y_pred_c5))"
   ]
  },
  {
   "cell_type": "markdown",
   "id": "afcf5ee1",
   "metadata": {},
   "source": [
    "# Problem # 4 Problem # 4"
   ]
  },
  {
   "cell_type": "markdown",
   "id": "2f064a73",
   "metadata": {},
   "source": [
    "Use theCART methodology to develop a classification model for the “State” (target), using the Returns_pct1 to Returns_pct6 features in the “AL_NJ_Income_pct dataset. \n",
    "\n",
    "\n",
    "•\tShow the cross tabulation of the classification. \n"
   ]
  },
  {
   "cell_type": "code",
   "execution_count": 59,
   "id": "42e846ad",
   "metadata": {},
   "outputs": [
    {
     "data": {
      "text/html": [
       "<div>\n",
       "<style scoped>\n",
       "    .dataframe tbody tr th:only-of-type {\n",
       "        vertical-align: middle;\n",
       "    }\n",
       "\n",
       "    .dataframe tbody tr th {\n",
       "        vertical-align: top;\n",
       "    }\n",
       "\n",
       "    .dataframe thead th {\n",
       "        text-align: right;\n",
       "    }\n",
       "</style>\n",
       "<table border=\"1\" class=\"dataframe\">\n",
       "  <thead>\n",
       "    <tr style=\"text-align: right;\">\n",
       "      <th>Predicted</th>\n",
       "      <th>AL</th>\n",
       "      <th>NJ</th>\n",
       "      <th>All</th>\n",
       "    </tr>\n",
       "    <tr>\n",
       "      <th>Actual</th>\n",
       "      <th></th>\n",
       "      <th></th>\n",
       "      <th></th>\n",
       "    </tr>\n",
       "  </thead>\n",
       "  <tbody>\n",
       "    <tr>\n",
       "      <th>AL</th>\n",
       "      <td>150</td>\n",
       "      <td>33</td>\n",
       "      <td>183</td>\n",
       "    </tr>\n",
       "    <tr>\n",
       "      <th>NJ</th>\n",
       "      <td>46</td>\n",
       "      <td>122</td>\n",
       "      <td>168</td>\n",
       "    </tr>\n",
       "    <tr>\n",
       "      <th>All</th>\n",
       "      <td>196</td>\n",
       "      <td>155</td>\n",
       "      <td>351</td>\n",
       "    </tr>\n",
       "  </tbody>\n",
       "</table>\n",
       "</div>"
      ],
      "text/plain": [
       "Predicted   AL   NJ  All\n",
       "Actual                  \n",
       "AL         150   33  183\n",
       "NJ          46  122  168\n",
       "All        196  155  351"
      ]
     },
     "execution_count": 59,
     "metadata": {},
     "output_type": "execute_result"
    }
   ],
   "source": [
    "# import DecisionTreeClassifier\n",
    "from sklearn.tree import DecisionTreeClassifier\n",
    "\n",
    "# Instantiate a DecisionTreeClassifier 'dt' with a maximum depth of 6\n",
    "dt = DecisionTreeClassifier(criterion='gini', max_depth=6, random_state=1)\n",
    "\n",
    "# Fit dt to the training set\n",
    "dt.fit(X_train, y_train)\n",
    "\n",
    "# Predict test set labels\n",
    "y_pred_cart = dt.predict(X_test)\n",
    "pd.crosstab(y_test, y_pred_cart, margins=True, rownames=['Actual'], colnames=['Predicted'])"
   ]
  },
  {
   "cell_type": "markdown",
   "id": "4a90fbc7",
   "metadata": {},
   "source": [
    "•\tWhat is the accuracy of your model?\n",
    "\n",
    "•\tWhat is the precision of the model?\n",
    "\n",
    "•\tWhat is the recall of the model?\n",
    "\n",
    "•\tWhat is the F1 of the model?"
   ]
  },
  {
   "cell_type": "code",
   "execution_count": 60,
   "id": "1a013516",
   "metadata": {},
   "outputs": [
    {
     "name": "stdout",
     "output_type": "stream",
     "text": [
      "              precision    recall  f1-score   support\n",
      "\n",
      "          AL       0.77      0.82      0.79       183\n",
      "          NJ       0.79      0.73      0.76       168\n",
      "\n",
      "    accuracy                           0.77       351\n",
      "   macro avg       0.78      0.77      0.77       351\n",
      "weighted avg       0.78      0.77      0.77       351\n",
      "\n"
     ]
    }
   ],
   "source": [
    "print(classification_report(y_test,y_pred_cart))"
   ]
  },
  {
   "cell_type": "markdown",
   "id": "94be92b7",
   "metadata": {},
   "source": [
    "# Problem # 5 Neural Network"
   ]
  },
  {
   "cell_type": "markdown",
   "id": "eb9b87b0",
   "metadata": {},
   "source": [
    "Using data in the table below, construct a Neural Network with one Output Layer (z) and one Hidden Layer (two nodes A and B).  Calculate the predicted outcome if the inputs to the input nodes are (Node 1=.4, Node 2=.7 Node 3= .7 and Node 4=.2)\n",
    "Use the actual value of .75 and a learning factor of .1 to adjust the weight for xx to z."
   ]
  },
  {
   "cell_type": "markdown",
   "id": "d422ed88",
   "metadata": {},
   "source": [
    "After calculation in xlsx file, we can get the predicted outcome is 0.88643 and adjusted weight for xx to z is 0.498626535."
   ]
  }
 ],
 "metadata": {
  "kernelspec": {
   "display_name": "Python 3 (ipykernel)",
   "language": "python",
   "name": "python3"
  },
  "language_info": {
   "codemirror_mode": {
    "name": "ipython",
    "version": 3
   },
   "file_extension": ".py",
   "mimetype": "text/x-python",
   "name": "python",
   "nbconvert_exporter": "python",
   "pygments_lexer": "ipython3",
   "version": "3.9.13"
  }
 },
 "nbformat": 4,
 "nbformat_minor": 5
}
